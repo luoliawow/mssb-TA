{
 "cells": [
  {
   "cell_type": "code",
   "execution_count": 43,
   "metadata": {},
   "outputs": [],
   "source": [
    "import numpy as np\n",
    "import matplotlib.pyplot as plt"
   ]
  },
  {
   "cell_type": "code",
   "execution_count": 44,
   "metadata": {},
   "outputs": [],
   "source": [
    "data = np.loadtxt('iris.txt')\n",
    "#每种样本前N组数据为训练集,T组数据为测试集\n",
    "N = 40;T = 10\n",
    "w1, t1, w2, t2, w3, t3 = np.split(data[:,1:-1], [N,N+T,2*N+T,2*N+2*T,3*N+2*T])\n",
    "cov1, cov2, cov3 = np.cov(w1, rowvar=False), np.cov(w2, rowvar=False), np.cov(w3, rowvar=False)\n",
    "m1, m2, m3 = np.mean(w1,axis=0), np.mean(w2,axis=0), np.mean(w3,axis=0)"
   ]
  },
  {
   "cell_type": "code",
   "execution_count": 45,
   "metadata": {},
   "outputs": [
    {
     "name": "stdout",
     "output_type": "stream",
     "text": [
      "第一类有0个,第二类有10个\n"
     ]
    }
   ],
   "source": [
    "p1, p2 = 0.5,0.5\n",
    "cnt1, cnt2 = 0,0\n",
    "test = t2 # 选t2为测试集\n",
    "for i in range(T):\n",
    "    temp1, temp2 = np.reshape(test[i,:]-m1,[1,4]), np.reshape(test[i,:]-m2, [1,4])\n",
    "    g1 = -0.5*temp1@np.linalg.inv(cov1)@temp1.T+np.log(p1)-0.5*np.log(np.abs(np.linalg.det(cov1)))\n",
    "    g2 = -0.5*temp1@np.linalg.inv(cov2)@temp2.T+np.log(p1)-0.5*np.log(np.abs(np.linalg.det(cov2)))\n",
    "    if g1 > g2:\n",
    "        cnt1 += 1\n",
    "    else:\n",
    "        cnt2 += 1\n",
    "print(f'第一类有{cnt1}个,第二类有{cnt2}个')"
   ]
  }
 ],
 "metadata": {
  "kernelspec": {
   "display_name": "mssb",
   "language": "python",
   "name": "python3"
  },
  "language_info": {
   "codemirror_mode": {
    "name": "ipython",
    "version": 3
   },
   "file_extension": ".py",
   "mimetype": "text/x-python",
   "name": "python",
   "nbconvert_exporter": "python",
   "pygments_lexer": "ipython3",
   "version": "3.10.12"
  },
  "orig_nbformat": 4
 },
 "nbformat": 4,
 "nbformat_minor": 2
}
