{
 "cells": [
  {
   "cell_type": "code",
   "execution_count": 2,
   "metadata": {},
   "outputs": [],
   "source": [
    "import numpy as np\n",
    "import matplotlib.pyplot as plt"
   ]
  },
  {
   "cell_type": "code",
   "execution_count": 3,
   "metadata": {},
   "outputs": [],
   "source": [
    "data = np.array([\n",
    "    [2.4,3.8,4.9,4.7],\n",
    "    [3.2,10.2,100.4,12.4],\n",
    "    [4.6,7.8,8.9,9.0],\n",
    "    [10.2,11.2,23.4,24.6]\n",
    "])\n",
    "\n",
    "m,n = data.shape\n",
    "k = 3 # 聚类数量\n"
   ]
  },
  {
   "cell_type": "code",
   "execution_count": 4,
   "metadata": {},
   "outputs": [],
   "source": [
    "def kmeans(data, k):\n",
    "    centers = data[:k] # 选前k个为初始中心\n",
    "    while True:\n",
    "        # 计算每个样本到簇中心的距离(利用广播)\n",
    "        classes = np.argmin(((data[:, :, None] - centers.T[None, :, :])**2).sum(axis=1), axis=1)\n",
    "        # 对每个新的簇计算簇中心\n",
    "        new_centers = np.array([data[classes == j, :].mean(axis=0) for j in range(k)])\n",
    "\n",
    "        if (new_centers == centers).all():\n",
    "            break\n",
    "        else:\n",
    "            centers = new_centers\n",
    "\n",
    "    return classes, centers"
   ]
  },
  {
   "cell_type": "code",
   "execution_count": 5,
   "metadata": {},
   "outputs": [
    {
     "data": {
      "text/plain": [
       "(array([0, 1, 0, 2], dtype=int64),\n",
       " array([[  3.5 ,   5.8 ,   6.9 ,   6.85],\n",
       "        [  3.2 ,  10.2 , 100.4 ,  12.4 ],\n",
       "        [ 10.2 ,  11.2 ,  23.4 ,  24.6 ]]))"
      ]
     },
     "execution_count": 5,
     "metadata": {},
     "output_type": "execute_result"
    }
   ],
   "source": [
    "classes, centers = kmeans(data, 3)\n",
    "classes, centers"
   ]
  }
 ],
 "metadata": {
  "kernelspec": {
   "display_name": "mssb",
   "language": "python",
   "name": "python3"
  },
  "language_info": {
   "codemirror_mode": {
    "name": "ipython",
    "version": 3
   },
   "file_extension": ".py",
   "mimetype": "text/x-python",
   "name": "python",
   "nbconvert_exporter": "python",
   "pygments_lexer": "ipython3",
   "version": "3.10.12"
  },
  "orig_nbformat": 4
 },
 "nbformat": 4,
 "nbformat_minor": 2
}
